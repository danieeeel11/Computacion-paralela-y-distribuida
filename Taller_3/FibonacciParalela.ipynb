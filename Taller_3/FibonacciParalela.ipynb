{
  "cells": [
    {
      "cell_type": "code",
      "execution_count": null,
      "metadata": {
        "id": "AGmrltpLZLpw"
      },
      "outputs": [],
      "source": [
        "def fibonacci(n):\n",
        "  if n <= 1:\n",
        "    return n\n",
        "  else:\n",
        "    return fibonacci(n-1) + fibonacci(n-2)"
      ]
    },
    {
      "cell_type": "markdown",
      "source": [
        "# Opcion 1 - concurrent.futures"
      ],
      "metadata": {
        "id": "SWsRZCyqU38U"
      }
    },
    {
      "cell_type": "code",
      "source": [
        "import concurrent.futures\n",
        "import time"
      ],
      "metadata": {
        "id": "dsHRvjo2tPtv"
      },
      "execution_count": null,
      "outputs": []
    },
    {
      "cell_type": "code",
      "source": [
        "if __name__ == '__main__':\n",
        "  times = []\n",
        "  start_time = time.time()\n",
        "  print(\"N  Tiempo(s)\")\n",
        "  for i in range(50):\n",
        "    with concurrent.futures.ProcessPoolExecutor() as executor:\n",
        "      result = executor.map(fibonacci, range(i))\n",
        "      times.append(time.time() - start_time)\n",
        "      print(i, \"  \", time.time() - start_time)\n",
        "\n",
        "  end_time = time.time()\n",
        "  execution_time = end_time - start_time\n",
        "\n",
        "  print(\"Resultado:\", list(result))\n",
        "  print(\"Tiempo de ejecución:\", execution_time)"
      ],
      "metadata": {
        "colab": {
          "base_uri": "https://localhost:8080/"
        },
        "id": "CdUBLDOGMEg1",
        "outputId": "258b67dd-fade-4ea4-96c8-8729d32b3916"
      },
      "execution_count": null,
      "outputs": [
        {
          "output_type": "stream",
          "name": "stdout",
          "text": [
            "N  Tiempo(s)\n",
            "0    0.004420280456542969\n",
            "1    0.03090977668762207\n",
            "2    0.0580296516418457\n",
            "3    0.0870978832244873\n",
            "4    0.11028194427490234\n",
            "5    0.13702964782714844\n",
            "6    0.1640760898590088\n",
            "7    0.19139647483825684\n",
            "8    0.21914386749267578\n",
            "9    0.24727296829223633\n",
            "10    0.27472376823425293\n",
            "11    0.32381463050842285\n",
            "12    0.3538661003112793\n",
            "13    0.38867855072021484\n",
            "14    0.4209859371185303\n",
            "15    0.449695348739624\n",
            "16    0.4817326068878174\n",
            "17    0.5094258785247803\n",
            "18    0.5406680107116699\n",
            "19    0.5764424800872803\n",
            "20    0.6123175621032715\n",
            "21    0.6482841968536377\n",
            "22    0.6868209838867188\n",
            "23    0.7267582416534424\n",
            "24    0.7748427391052246\n",
            "25    0.8300848007202148\n",
            "26    0.89870285987854\n",
            "27    0.9927825927734375\n",
            "28    1.1256835460662842\n",
            "29    1.3337955474853516\n",
            "30    1.6496820449829102\n",
            "31    2.131019353866577\n",
            "32    2.8927221298217773\n",
            "33    4.1506874561309814\n",
            "34    7.465533018112183\n",
            "35    10.495441198348999\n",
            "36    15.433019876480103\n",
            "37    24.881328344345093\n",
            "38    39.20722818374634\n",
            "39    62.736621618270874\n",
            "40    102.0907461643219\n",
            "41    161.59090876579285\n",
            "42    259.23221230506897\n",
            "43    416.5100395679474\n",
            "44    672.6665160655975\n",
            "45    1084.5654134750366\n",
            "46    1751.9977700710297\n",
            "47    2832.911662340164\n",
            "48    4575.797923564911\n",
            "49    7398.500111341476\n",
            "Resultado: [0, 1, 1, 2, 3, 5, 8, 13, 21, 34, 55, 89, 144, 233, 377, 610, 987, 1597, 2584, 4181, 6765, 10946, 17711, 28657, 46368, 75025, 121393, 196418, 317811, 514229, 832040, 1346269, 2178309, 3524578, 5702887, 9227465, 14930352, 24157817, 39088169, 63245986, 102334155, 165580141, 267914296, 433494437, 701408733, 1134903170, 1836311903, 2971215073, 4807526976]\n",
            "Tiempo de ejecución: 11963.850368976593\n"
          ]
        }
      ]
    },
    {
      "cell_type": "markdown",
      "source": [
        "# Opcion 2 - multipreprocessing"
      ],
      "metadata": {
        "id": "fWi1kO6dU0jI"
      }
    },
    {
      "cell_type": "code",
      "execution_count": null,
      "metadata": {
        "id": "dk4x1PkqYQq2"
      },
      "outputs": [],
      "source": [
        "import multiprocessing\n",
        "import time"
      ]
    },
    {
      "cell_type": "code",
      "source": [
        "print(\"Numero de cpu : \", multiprocessing.cpu_count())"
      ],
      "metadata": {
        "colab": {
          "base_uri": "https://localhost:8080/"
        },
        "id": "pMMd9rr7I5iF",
        "outputId": "f512c4df-1025-4766-995c-12080017cab7"
      },
      "execution_count": null,
      "outputs": [
        {
          "output_type": "stream",
          "name": "stdout",
          "text": [
            "Numero de cpu :  2\n"
          ]
        }
      ]
    },
    {
      "cell_type": "code",
      "execution_count": null,
      "metadata": {
        "colab": {
          "background_save": true,
          "base_uri": "https://localhost:8080/"
        },
        "id": "DGr91Vn4YjeW",
        "outputId": "fb532fac-3e07-4ae2-b165-a15558c2317a"
      },
      "outputs": [
        {
          "name": "stdout",
          "output_type": "stream",
          "text": [
            "N  Tiempo(s)\n",
            "0    0.02886056900024414\n",
            "1    0.040491342544555664\n",
            "2    0.04290485382080078\n",
            "3    0.04542660713195801\n",
            "4    0.04726052284240723\n",
            "5    0.04879260063171387\n",
            "6    0.05051851272583008\n",
            "7    0.05257105827331543\n",
            "8    0.05490994453430176\n",
            "9    0.05719923973083496\n",
            "10    0.059975385665893555\n",
            "11    0.06228041648864746\n",
            "12    0.06470894813537598\n",
            "13    0.06716513633728027\n",
            "14    0.0703272819519043\n",
            "15    0.07392692565917969\n",
            "16    0.07770252227783203\n",
            "17    0.0817105770111084\n",
            "18    0.08643674850463867\n",
            "19    0.09292936325073242\n",
            "20    0.09879374504089355\n",
            "21    0.10664510726928711\n",
            "22    0.11804842948913574\n",
            "23    0.13487696647644043\n",
            "24    0.16694116592407227\n",
            "25    0.21639180183410645\n",
            "26    0.2903707027435303\n",
            "27    0.4123237133026123\n",
            "28    0.6154074668884277\n",
            "29    0.902935266494751\n",
            "30    1.3626456260681152\n",
            "31    2.1058506965637207\n",
            "32    3.247603416442871\n",
            "33    5.141409873962402\n",
            "34    9.681859731674194\n",
            "35    14.499377250671387\n",
            "36    23.875375747680664\n",
            "37    38.225728034973145\n",
            "38    61.806530475616455\n",
            "39    98.57046294212341\n",
            "40    158.58039116859436\n",
            "41    257.0316331386566\n",
            "42    414.2497582435608\n",
            "43    672.5911996364594\n",
            "44    1088.0515413284302\n",
            "45    1758.520896911621\n",
            "46    2840.9215331077576\n",
            "47    4592.670152425766\n",
            "48    7454.006998538971\n",
            "49    12049.618479251862\n",
            "Resultado: [0, 1, 1, 2, 3, 5, 8, 13, 21, 34, 55, 89, 144, 233, 377, 610, 987, 1597, 2584, 4181, 6765, 10946, 17711, 28657, 46368, 75025, 121393, 196418, 317811, 514229, 832040, 1346269, 2178309, 3524578, 5702887, 9227465, 14930352, 24157817, 39088169, 63245986, 102334155, 165580141, 267914296, 433494437, 701408733, 1134903170, 1836311903, 2971215073, 4807526976]\n",
            "Tiempo de ejecución: 12049.618659257889\n"
          ]
        }
      ],
      "source": [
        "if __name__ == '__main__':\n",
        "  start_time = time.time()\n",
        "  pool = multiprocessing.Pool()\n",
        "  times = []\n",
        "\n",
        "  print(\"N  Tiempo(s)\")\n",
        "  for i in range(50):\n",
        "    result = pool.map(fibonacci, range(i))\n",
        "    times.append(time.time() - start_time)\n",
        "    print(i, \"  \", time.time() - start_time)\n",
        "\n",
        "  end_time = time.time()\n",
        "  execution_time = end_time - start_time\n",
        "\n",
        "  print(\"Resultado:\", result)\n",
        "  print(\"Tiempo de ejecución:\", execution_time)"
      ]
    }
  ],
  "metadata": {
    "colab": {
      "provenance": []
    },
    "kernelspec": {
      "display_name": "Python 3",
      "name": "python3"
    },
    "language_info": {
      "name": "python"
    }
  },
  "nbformat": 4,
  "nbformat_minor": 0
}